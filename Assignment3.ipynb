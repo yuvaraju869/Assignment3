{
 "cells": [
  {
   "cell_type": "code",
   "execution_count": null,
   "id": "b9e43972",
   "metadata": {},
   "outputs": [],
   "source": [
    "# Write a Python function to sum all the numbers in a list."
   ]
  },
  {
   "cell_type": "code",
   "execution_count": 1,
   "id": "6bfd124b",
   "metadata": {},
   "outputs": [
    {
     "name": "stdout",
     "output_type": "stream",
     "text": [
      "Sum of the numbers in the list: 20\n"
     ]
    }
   ],
   "source": [
    "def sum_numbers_in_list(numbers_list):\n",
    "    total_sum = 0\n",
    "    for number in numbers_list:\n",
    "        total_sum += number\n",
    "    return total_sum\n",
    "\n",
    "# Test the function with the sample list\n",
    "sample_list = [8, 2, 3, 0, 7]\n",
    "result = sum_numbers_in_list(sample_list)\n",
    "print(\"Sum of the numbers in the list:\", result)\n"
   ]
  },
  {
   "cell_type": "code",
   "execution_count": null,
   "id": "f686ce18",
   "metadata": {},
   "outputs": [],
   "source": []
  }
 ],
 "metadata": {
  "kernelspec": {
   "display_name": "Python 3 (ipykernel)",
   "language": "python",
   "name": "python3"
  },
  "language_info": {
   "codemirror_mode": {
    "name": "ipython",
    "version": 3
   },
   "file_extension": ".py",
   "mimetype": "text/x-python",
   "name": "python",
   "nbconvert_exporter": "python",
   "pygments_lexer": "ipython3",
   "version": "3.11.3"
  }
 },
 "nbformat": 4,
 "nbformat_minor": 5
}
