{
 "cells": [
  {
   "cell_type": "code",
   "execution_count": null,
   "id": "58e97e3a",
   "metadata": {},
   "outputs": [],
   "source": [
    "# Write a Python program to reverse a string."
   ]
  },
  {
   "cell_type": "code",
   "execution_count": 3,
   "id": "40c1762e",
   "metadata": {},
   "outputs": [
    {
     "name": "stdout",
     "output_type": "stream",
     "text": [
      "Reversed String: dcba4321\n"
     ]
    }
   ],
   "source": [
    "def reverse_string(input_string):\n",
    "    reversed_string = \"\"\n",
    "    index = len(input_string) - 1\n",
    "\n",
    "    while index >= 0:\n",
    "        reversed_string += input_string[index]\n",
    "        index -= 1\n",
    "\n",
    "    return reversed_string\n",
    "\n",
    "# Sample String\n",
    "sample_string = \"1234abcd\"\n",
    "\n",
    "# Get the reversed string\n",
    "result = reverse_string(sample_string)\n",
    "\n",
    "# Print the result\n",
    "print(\"Reversed String:\", result)\n"
   ]
  },
  {
   "cell_type": "code",
   "execution_count": null,
   "id": "6a5254a3",
   "metadata": {},
   "outputs": [],
   "source": []
  }
 ],
 "metadata": {
  "kernelspec": {
   "display_name": "Python 3 (ipykernel)",
   "language": "python",
   "name": "python3"
  },
  "language_info": {
   "codemirror_mode": {
    "name": "ipython",
    "version": 3
   },
   "file_extension": ".py",
   "mimetype": "text/x-python",
   "name": "python",
   "nbconvert_exporter": "python",
   "pygments_lexer": "ipython3",
   "version": "3.11.3"
  }
 },
 "nbformat": 4,
 "nbformat_minor": 5
}
